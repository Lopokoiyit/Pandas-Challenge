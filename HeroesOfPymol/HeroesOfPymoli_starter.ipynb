{
 "cells": [
  {
   "cell_type": "code",
   "execution_count": 2,
   "metadata": {},
   "outputs": [
    {
     "data": {
      "text/html": [
       "<div>\n",
       "<style scoped>\n",
       "    .dataframe tbody tr th:only-of-type {\n",
       "        vertical-align: middle;\n",
       "    }\n",
       "\n",
       "    .dataframe tbody tr th {\n",
       "        vertical-align: top;\n",
       "    }\n",
       "\n",
       "    .dataframe thead th {\n",
       "        text-align: right;\n",
       "    }\n",
       "</style>\n",
       "<table border=\"1\" class=\"dataframe\">\n",
       "  <thead>\n",
       "    <tr style=\"text-align: right;\">\n",
       "      <th></th>\n",
       "      <th>Purchase ID</th>\n",
       "      <th>SN</th>\n",
       "      <th>Age</th>\n",
       "      <th>Gender</th>\n",
       "      <th>Item ID</th>\n",
       "      <th>Item Name</th>\n",
       "      <th>Price</th>\n",
       "    </tr>\n",
       "  </thead>\n",
       "  <tbody>\n",
       "    <tr>\n",
       "      <th>0</th>\n",
       "      <td>0</td>\n",
       "      <td>Lisim78</td>\n",
       "      <td>20</td>\n",
       "      <td>Male</td>\n",
       "      <td>108</td>\n",
       "      <td>Extraction, Quickblade Of Trembling Hands</td>\n",
       "      <td>3.53</td>\n",
       "    </tr>\n",
       "    <tr>\n",
       "      <th>1</th>\n",
       "      <td>1</td>\n",
       "      <td>Lisovynya38</td>\n",
       "      <td>40</td>\n",
       "      <td>Male</td>\n",
       "      <td>143</td>\n",
       "      <td>Frenzied Scimitar</td>\n",
       "      <td>1.56</td>\n",
       "    </tr>\n",
       "    <tr>\n",
       "      <th>2</th>\n",
       "      <td>2</td>\n",
       "      <td>Ithergue48</td>\n",
       "      <td>24</td>\n",
       "      <td>Male</td>\n",
       "      <td>92</td>\n",
       "      <td>Final Critic</td>\n",
       "      <td>4.88</td>\n",
       "    </tr>\n",
       "    <tr>\n",
       "      <th>3</th>\n",
       "      <td>3</td>\n",
       "      <td>Chamassasya86</td>\n",
       "      <td>24</td>\n",
       "      <td>Male</td>\n",
       "      <td>100</td>\n",
       "      <td>Blindscythe</td>\n",
       "      <td>3.27</td>\n",
       "    </tr>\n",
       "    <tr>\n",
       "      <th>4</th>\n",
       "      <td>4</td>\n",
       "      <td>Iskosia90</td>\n",
       "      <td>23</td>\n",
       "      <td>Male</td>\n",
       "      <td>131</td>\n",
       "      <td>Fury</td>\n",
       "      <td>1.44</td>\n",
       "    </tr>\n",
       "  </tbody>\n",
       "</table>\n",
       "</div>"
      ],
      "text/plain": [
       "   Purchase ID             SN  Age Gender  Item ID  \\\n",
       "0            0        Lisim78   20   Male      108   \n",
       "1            1    Lisovynya38   40   Male      143   \n",
       "2            2     Ithergue48   24   Male       92   \n",
       "3            3  Chamassasya86   24   Male      100   \n",
       "4            4      Iskosia90   23   Male      131   \n",
       "\n",
       "                                   Item Name  Price  \n",
       "0  Extraction, Quickblade Of Trembling Hands   3.53  \n",
       "1                          Frenzied Scimitar   1.56  \n",
       "2                               Final Critic   4.88  \n",
       "3                                Blindscythe   3.27  \n",
       "4                                       Fury   1.44  "
      ]
     },
     "execution_count": 2,
     "metadata": {},
     "output_type": "execute_result"
    }
   ],
   "source": [
    "# Dependencies and Setup\n",
    "import pandas as pd\n",
    "\n",
    "# File to Load (Remember to Change These)\n",
    "csvpath = \"Resources/purchase_data.csv\"\n",
    "\n",
    "# Read Purchasing File and store into Pandas data frame\n",
    "Heroes_of_Pymoli_df = pd.read_csv(csvpath)\n",
    "Heroes_of_Pymoli_df.head()"
   ]
  },
  {
   "cell_type": "markdown",
   "metadata": {},
   "source": [
    "## Player Count"
   ]
  },
  {
   "cell_type": "code",
   "execution_count": 3,
   "metadata": {},
   "outputs": [
    {
     "data": {
      "text/html": [
       "<div>\n",
       "<style scoped>\n",
       "    .dataframe tbody tr th:only-of-type {\n",
       "        vertical-align: middle;\n",
       "    }\n",
       "\n",
       "    .dataframe tbody tr th {\n",
       "        vertical-align: top;\n",
       "    }\n",
       "\n",
       "    .dataframe thead th {\n",
       "        text-align: right;\n",
       "    }\n",
       "</style>\n",
       "<table border=\"1\" class=\"dataframe\">\n",
       "  <thead>\n",
       "    <tr style=\"text-align: right;\">\n",
       "      <th></th>\n",
       "      <th>Total Players</th>\n",
       "    </tr>\n",
       "  </thead>\n",
       "  <tbody>\n",
       "    <tr>\n",
       "      <th>0</th>\n",
       "      <td>576</td>\n",
       "    </tr>\n",
       "  </tbody>\n",
       "</table>\n",
       "</div>"
      ],
      "text/plain": [
       "   Total Players\n",
       "0            576"
      ]
     },
     "execution_count": 3,
     "metadata": {},
     "output_type": "execute_result"
    }
   ],
   "source": [
    "#Display total players\n",
    "total= {'Total Players':[len(Heroes_of_Pymoli_df['SN'].value_counts())]}\n",
    "total_players = pd.DataFrame(total)\n",
    "total_players"
   ]
  },
  {
   "cell_type": "markdown",
   "metadata": {},
   "source": [
    "## Purchasing Analysis (Total)"
   ]
  },
  {
   "cell_type": "markdown",
   "metadata": {},
   "source": [
    "* Run basic calculations to obtain number of unique items, average price, etc.\n",
    "\n",
    "\n",
    "* Create a summary data frame to hold the results\n",
    "\n",
    "\n",
    "* Optional: give the displayed data cleaner formatting\n",
    "\n",
    "\n",
    "* Display the summary data frame\n"
   ]
  },
  {
   "cell_type": "code",
   "execution_count": 4,
   "metadata": {
    "scrolled": true
   },
   "outputs": [
    {
     "data": {
      "text/plain": [
       "179"
      ]
     },
     "execution_count": 4,
     "metadata": {},
     "output_type": "execute_result"
    }
   ],
   "source": [
    "Unique_items = (Heroes_of_Pymoli_df[\"Item ID\"].nunique())\n",
    "Unique_items\n"
   ]
  },
  {
   "cell_type": "code",
   "execution_count": 5,
   "metadata": {},
   "outputs": [
    {
     "data": {
      "text/plain": [
       "3.05"
      ]
     },
     "execution_count": 5,
     "metadata": {},
     "output_type": "execute_result"
    }
   ],
   "source": [
    "Average_price = round(Heroes_of_Pymoli_df[\"Price\"].mean(), 2)\n",
    "Average_price"
   ]
  },
  {
   "cell_type": "code",
   "execution_count": 6,
   "metadata": {},
   "outputs": [
    {
     "data": {
      "text/plain": [
       "780"
      ]
     },
     "execution_count": 6,
     "metadata": {},
     "output_type": "execute_result"
    }
   ],
   "source": [
    "total_purchases = (Heroes_of_Pymoli_df[\"SN\"].count())\n",
    "total_purchases"
   ]
  },
  {
   "cell_type": "code",
   "execution_count": 7,
   "metadata": {},
   "outputs": [
    {
     "data": {
      "text/plain": [
       "2379.77"
      ]
     },
     "execution_count": 7,
     "metadata": {},
     "output_type": "execute_result"
    }
   ],
   "source": [
    "total_revenue = (Heroes_of_Pymoli_df[\"Price\"].sum())\n",
    "total_revenue"
   ]
  },
  {
   "cell_type": "code",
   "execution_count": 8,
   "metadata": {},
   "outputs": [
    {
     "data": {
      "text/html": [
       "<div>\n",
       "<style scoped>\n",
       "    .dataframe tbody tr th:only-of-type {\n",
       "        vertical-align: middle;\n",
       "    }\n",
       "\n",
       "    .dataframe tbody tr th {\n",
       "        vertical-align: top;\n",
       "    }\n",
       "\n",
       "    .dataframe thead th {\n",
       "        text-align: right;\n",
       "    }\n",
       "</style>\n",
       "<table border=\"1\" class=\"dataframe\">\n",
       "  <thead>\n",
       "    <tr style=\"text-align: right;\">\n",
       "      <th></th>\n",
       "      <th>Unique Items</th>\n",
       "      <th>Average Price</th>\n",
       "      <th>Total Purchases</th>\n",
       "      <th>Total Revenue</th>\n",
       "    </tr>\n",
       "  </thead>\n",
       "  <tbody>\n",
       "    <tr>\n",
       "      <th>0</th>\n",
       "      <td>179</td>\n",
       "      <td>3.05</td>\n",
       "      <td>780</td>\n",
       "      <td>2379.77</td>\n",
       "    </tr>\n",
       "  </tbody>\n",
       "</table>\n",
       "</div>"
      ],
      "text/plain": [
       "   Unique Items  Average Price  Total Purchases  Total Revenue\n",
       "0           179           3.05              780        2379.77"
      ]
     },
     "execution_count": 8,
     "metadata": {},
     "output_type": "execute_result"
    }
   ],
   "source": [
    "#Summary Data Frame\n",
    "Unique_items = (Heroes_of_Pymoli_df[\"Item ID\"].nunique())\n",
    "Average_price = round(Heroes_of_Pymoli_df[\"Price\"].mean(), 2)\n",
    "total_purchases = (Heroes_of_Pymoli_df[\"SN\"].count())\n",
    "total_revenue = (Heroes_of_Pymoli_df[\"Price\"].sum())\n",
    "Summary = {'Unique Items':[Unique_items], 'Average Price' :[Average_price], 'Total Purchases' : [total_purchases], 'Total Revenue' : [total_revenue]}\n",
    "Summary_table = pd.DataFrame(Summary)\n",
    "Summary_table "
   ]
  },
  {
   "cell_type": "markdown",
   "metadata": {},
   "source": [
    "## Gender Demographics"
   ]
  },
  {
   "cell_type": "markdown",
   "metadata": {},
   "source": [
    "* Percentage and Count of Male Players\n",
    "\n",
    "\n",
    "* Percentage and Count of Female Players\n",
    "\n",
    "\n",
    "* Percentage and Count of Other / Non-Disclosed\n",
    "\n",
    "\n"
   ]
  },
  {
   "cell_type": "code",
   "execution_count": 9,
   "metadata": {},
   "outputs": [
    {
     "data": {
      "text/plain": [
       "484"
      ]
     },
     "execution_count": 9,
     "metadata": {},
     "output_type": "execute_result"
    }
   ],
   "source": [
    "Gender_stats = Heroes_of_Pymoli_df.groupby(['Gender'])\n",
    "Male_df = Heroes_of_Pymoli_df.groupby(['Gender']).get_group(('Male'))\n",
    "Male_count = len(Male_df['SN'].unique())\n",
    "Male_count "
   ]
  },
  {
   "cell_type": "code",
   "execution_count": 10,
   "metadata": {},
   "outputs": [
    {
     "data": {
      "text/plain": [
       "81"
      ]
     },
     "execution_count": 10,
     "metadata": {},
     "output_type": "execute_result"
    }
   ],
   "source": [
    "Gender_stats = Heroes_of_Pymoli_df.groupby(['Gender'])\n",
    "Female_df = Heroes_of_Pymoli_df.groupby(['Gender']).get_group(('Female'))\n",
    "Female_count = len(Female_df['SN'].unique())\n",
    "Female_count"
   ]
  },
  {
   "cell_type": "code",
   "execution_count": 11,
   "metadata": {},
   "outputs": [
    {
     "data": {
      "text/plain": [
       "11"
      ]
     },
     "execution_count": 11,
     "metadata": {},
     "output_type": "execute_result"
    }
   ],
   "source": [
    "Gender_stats = Heroes_of_Pymoli_df.groupby(['Gender'])\n",
    "Other_df = Heroes_of_Pymoli_df.groupby(['Gender']).get_group(('Other / Non-Disclosed'))\n",
    "Other_count = len(Other_df['SN'].unique())\n",
    "Other_count"
   ]
  },
  {
   "cell_type": "code",
   "execution_count": 12,
   "metadata": {},
   "outputs": [],
   "source": [
    "total_count = len(Heroes_of_Pymoli_df[\"SN\"].unique())\n",
    "Percent_Male_Count= round((Male_count/total_count)*100, 2)\n",
    "Percent_Female_Count= round((Female_count/total_count)*100, 2)\n",
    "Percent_Other_Count= round((Other_count/total_count)*100, 2)\n",
    "\n"
   ]
  },
  {
   "cell_type": "code",
   "execution_count": 13,
   "metadata": {},
   "outputs": [
    {
     "data": {
      "text/html": [
       "<div>\n",
       "<style scoped>\n",
       "    .dataframe tbody tr th:only-of-type {\n",
       "        vertical-align: middle;\n",
       "    }\n",
       "\n",
       "    .dataframe tbody tr th {\n",
       "        vertical-align: top;\n",
       "    }\n",
       "\n",
       "    .dataframe thead th {\n",
       "        text-align: right;\n",
       "    }\n",
       "</style>\n",
       "<table border=\"1\" class=\"dataframe\">\n",
       "  <thead>\n",
       "    <tr style=\"text-align: right;\">\n",
       "      <th></th>\n",
       "      <th>Percent of Players</th>\n",
       "      <th>Count of Players</th>\n",
       "    </tr>\n",
       "    <tr>\n",
       "      <th>Gender</th>\n",
       "      <th></th>\n",
       "      <th></th>\n",
       "    </tr>\n",
       "  </thead>\n",
       "  <tbody>\n",
       "    <tr>\n",
       "      <th>Male</th>\n",
       "      <td>84.03</td>\n",
       "      <td>484</td>\n",
       "    </tr>\n",
       "    <tr>\n",
       "      <th>Female</th>\n",
       "      <td>14.06</td>\n",
       "      <td>81</td>\n",
       "    </tr>\n",
       "    <tr>\n",
       "      <th>Other</th>\n",
       "      <td>1.91</td>\n",
       "      <td>11</td>\n",
       "    </tr>\n",
       "  </tbody>\n",
       "</table>\n",
       "</div>"
      ],
      "text/plain": [
       "        Percent of Players  Count of Players\n",
       "Gender                                      \n",
       "Male                 84.03               484\n",
       "Female               14.06                81\n",
       "Other                 1.91                11"
      ]
     },
     "execution_count": 13,
     "metadata": {},
     "output_type": "execute_result"
    }
   ],
   "source": [
    "#Gender DataFrame \n",
    "Gender_df = {'Percent of Players':[Percent_Male_Count, Percent_Female_Count,Percent_Other_Count], \n",
    "        'Gender': ['Male', 'Female', 'Other'], 'Count of Players': [Male_count, Female_count, Other_count]}\n",
    "Gender = pd.DataFrame(Gender_df)\n",
    "Gender = Gender.set_index('Gender')\n",
    "Gender"
   ]
  },
  {
   "cell_type": "code",
   "execution_count": 14,
   "metadata": {},
   "outputs": [
    {
     "data": {
      "text/html": [
       "<div>\n",
       "<style scoped>\n",
       "    .dataframe tbody tr th:only-of-type {\n",
       "        vertical-align: middle;\n",
       "    }\n",
       "\n",
       "    .dataframe tbody tr th {\n",
       "        vertical-align: top;\n",
       "    }\n",
       "\n",
       "    .dataframe thead th {\n",
       "        text-align: right;\n",
       "    }\n",
       "</style>\n",
       "<table border=\"1\" class=\"dataframe\">\n",
       "  <thead>\n",
       "    <tr style=\"text-align: right;\">\n",
       "      <th></th>\n",
       "      <th>Purchase Count</th>\n",
       "      <th>Average Purchase Price</th>\n",
       "      <th>Total Purchase Value</th>\n",
       "      <th>Avg Total Purchase per Person</th>\n",
       "    </tr>\n",
       "    <tr>\n",
       "      <th>Gender</th>\n",
       "      <th></th>\n",
       "      <th></th>\n",
       "      <th></th>\n",
       "      <th></th>\n",
       "    </tr>\n",
       "  </thead>\n",
       "  <tbody>\n",
       "    <tr>\n",
       "      <th>Male</th>\n",
       "      <td>652</td>\n",
       "      <td>3.02</td>\n",
       "      <td>1967.64</td>\n",
       "      <td>3.02</td>\n",
       "    </tr>\n",
       "    <tr>\n",
       "      <th>Female</th>\n",
       "      <td>113</td>\n",
       "      <td>3.20</td>\n",
       "      <td>361.94</td>\n",
       "      <td>3.20</td>\n",
       "    </tr>\n",
       "    <tr>\n",
       "      <th>Other</th>\n",
       "      <td>15</td>\n",
       "      <td>3.35</td>\n",
       "      <td>50.19</td>\n",
       "      <td>3.35</td>\n",
       "    </tr>\n",
       "  </tbody>\n",
       "</table>\n",
       "</div>"
      ],
      "text/plain": [
       "        Purchase Count  Average Purchase Price  Total Purchase Value  \\\n",
       "Gender                                                                 \n",
       "Male               652                    3.02               1967.64   \n",
       "Female             113                    3.20                361.94   \n",
       "Other               15                    3.35                 50.19   \n",
       "\n",
       "        Avg Total Purchase per Person  \n",
       "Gender                                 \n",
       "Male                             3.02  \n",
       "Female                           3.20  \n",
       "Other                            3.35  "
      ]
     },
     "execution_count": 14,
     "metadata": {},
     "output_type": "execute_result"
    }
   ],
   "source": [
    "#Purchasing Analysis by Gender\n",
    "Male_purchase_count = len(Male_df)\n",
    "MaleAvgPrice =round((Male_df[\"Price\"].sum())/len(Male_df[\"Price\"]),2)\n",
    "Female_purchase_count = len(Female_df)\n",
    "FemaleAvgPrice =round((Female_df[\"Price\"].sum())/len(Female_df[\"Price\"]),2)\n",
    "Other_purchase_count = len(Other_df)\n",
    "OtherAvgPrice =round((Other_df[\"Price\"].sum())/len(Other_df[\"Price\"]),2)\n",
    "\n",
    "#Total purchase value by Gender\n",
    "MalePurchaseTotal = round(Male_df['Price'].sum(), 2)\n",
    "FemalePurchaseTotal = round(Female_df['Price'].sum(), 2)\n",
    "OtherPurchaseTotal = round(Other_df['Price'].sum(), 2)\n",
    "\n",
    "#Average Total Purchase per Person\n",
    "MaleAvgPurchase = round((MalePurchaseTotal/Male_purchase_count), 2)\n",
    "FemaleAvgPurchase = round((FemalePurchaseTotal/Female_purchase_count), 2)\n",
    "OtherAvgPurchase = round((OtherPurchaseTotal/Other_purchase_count), 2)\n",
    "\n",
    "\n",
    "#summary table\n",
    "Purchases_by_Gender = {\"Purchase Count\":[Male_purchase_count,Female_purchase_count,Other_purchase_count],\n",
    "                    \"Gender\":[\"Male\",\"Female\",\"Other\"],\n",
    "                    \"Average Purchase Price\":[MaleAvgPrice,FemaleAvgPrice,OtherAvgPrice], \n",
    "                    \"Total Purchase Value\":[MalePurchaseTotal,FemalePurchaseTotal,OtherPurchaseTotal],\n",
    "                    \"Avg Total Purchase per Person\":[MaleAvgPurchase,FemaleAvgPurchase,OtherAvgPurchase]}\n",
    "PurchasesByGender = pd.DataFrame(Purchases_by_Gender)\n",
    "PurchasesByGender = PurchasesByGender.set_index('Gender')\n",
    "PurchasesByGender\n"
   ]
  },
  {
   "cell_type": "markdown",
   "metadata": {},
   "source": [
    "## Age Demographics"
   ]
  },
  {
   "cell_type": "markdown",
   "metadata": {},
   "source": [
    "* Establish bins for ages\n",
    "\n",
    "\n",
    "* Categorize the existing players using the age bins. Hint: use pd.cut()\n",
    "\n",
    "\n",
    "* Calculate the numbers and percentages by age group\n",
    "\n",
    "\n",
    "* Create a summary data frame to hold the results\n",
    "\n",
    "\n",
    "* Optional: round the percentage column to two decimal points\n",
    "\n",
    "\n",
    "* Display Age Demographics Table\n"
   ]
  },
  {
   "cell_type": "code",
   "execution_count": 15,
   "metadata": {},
   "outputs": [
    {
     "data": {
      "text/plain": [
       "45"
      ]
     },
     "execution_count": 15,
     "metadata": {},
     "output_type": "execute_result"
    }
   ],
   "source": [
    "Max_Age = Heroes_of_Pymoli_df['Age'].max()\n",
    "Max_Age"
   ]
  },
  {
   "cell_type": "code",
   "execution_count": 16,
   "metadata": {},
   "outputs": [
    {
     "data": {
      "text/plain": [
       "7"
      ]
     },
     "execution_count": 16,
     "metadata": {},
     "output_type": "execute_result"
    }
   ],
   "source": [
    "Min_Age = Heroes_of_Pymoli_df['Age'].min()\n",
    "Min_Age"
   ]
  },
  {
   "cell_type": "code",
   "execution_count": 17,
   "metadata": {},
   "outputs": [
    {
     "data": {
      "text/plain": [
       "[0, 10, 15, 20, 25, 30, 35, 40, 45]"
      ]
     },
     "execution_count": 17,
     "metadata": {},
     "output_type": "execute_result"
    }
   ],
   "source": [
    "#create bins that are 5 years apart \n",
    "Age_bins = [0,10,15,20,25,30,35,40,45]\n",
    "Agelabels = [\"<10\",\"11-15\",\"16-20\",\"21-25\",\"26-30\",\"31-35\",\"36-40\",\"41-45\"]\n",
    "Heroes_of_Pymoli_df['Age Summary'] = pd.cut(Heroes_of_Pymoli_df['Age'],Age_bins,labels= Agelabels)\n",
    "Age_bins"
   ]
  },
  {
   "cell_type": "code",
   "execution_count": 18,
   "metadata": {},
   "outputs": [
    {
     "data": {
      "text/html": [
       "<div>\n",
       "<style scoped>\n",
       "    .dataframe tbody tr th:only-of-type {\n",
       "        vertical-align: middle;\n",
       "    }\n",
       "\n",
       "    .dataframe tbody tr th {\n",
       "        vertical-align: top;\n",
       "    }\n",
       "\n",
       "    .dataframe thead th {\n",
       "        text-align: right;\n",
       "    }\n",
       "</style>\n",
       "<table border=\"1\" class=\"dataframe\">\n",
       "  <thead>\n",
       "    <tr style=\"text-align: right;\">\n",
       "      <th></th>\n",
       "      <th>Total Player Count</th>\n",
       "      <th>Percentage Of Players</th>\n",
       "    </tr>\n",
       "    <tr>\n",
       "      <th>Age Summary</th>\n",
       "      <th></th>\n",
       "      <th></th>\n",
       "    </tr>\n",
       "  </thead>\n",
       "  <tbody>\n",
       "    <tr>\n",
       "      <th>&lt;10</th>\n",
       "      <td>24</td>\n",
       "      <td>4.17</td>\n",
       "    </tr>\n",
       "    <tr>\n",
       "      <th>11-15</th>\n",
       "      <td>41</td>\n",
       "      <td>7.12</td>\n",
       "    </tr>\n",
       "    <tr>\n",
       "      <th>16-20</th>\n",
       "      <td>150</td>\n",
       "      <td>26.04</td>\n",
       "    </tr>\n",
       "    <tr>\n",
       "      <th>21-25</th>\n",
       "      <td>232</td>\n",
       "      <td>40.28</td>\n",
       "    </tr>\n",
       "    <tr>\n",
       "      <th>26-30</th>\n",
       "      <td>59</td>\n",
       "      <td>10.24</td>\n",
       "    </tr>\n",
       "    <tr>\n",
       "      <th>31-35</th>\n",
       "      <td>37</td>\n",
       "      <td>6.42</td>\n",
       "    </tr>\n",
       "    <tr>\n",
       "      <th>36-40</th>\n",
       "      <td>26</td>\n",
       "      <td>4.51</td>\n",
       "    </tr>\n",
       "    <tr>\n",
       "      <th>41-45</th>\n",
       "      <td>7</td>\n",
       "      <td>1.22</td>\n",
       "    </tr>\n",
       "  </tbody>\n",
       "</table>\n",
       "</div>"
      ],
      "text/plain": [
       "             Total Player Count  Percentage Of Players\n",
       "Age Summary                                           \n",
       "<10                          24                   4.17\n",
       "11-15                        41                   7.12\n",
       "16-20                       150                  26.04\n",
       "21-25                       232                  40.28\n",
       "26-30                        59                  10.24\n",
       "31-35                        37                   6.42\n",
       "36-40                        26                   4.51\n",
       "41-45                         7                   1.22"
      ]
     },
     "execution_count": 18,
     "metadata": {},
     "output_type": "execute_result"
    }
   ],
   "source": [
    "#Purchase Count\n",
    "Bin1 = Heroes_of_Pymoli_df.groupby(['Age Summary']).get_group(('<10'))\n",
    "purchase_count1 = len(Bin1['SN'].unique())\n",
    "ForBin1 = (purchase_count1/total_count)*100\n",
    "\n",
    "Bin2 = Heroes_of_Pymoli_df.groupby(['Age Summary']).get_group(('11-15'))\n",
    "purchase_count2= len(Bin2['SN'].unique())\n",
    "ForBin2 = (purchase_count2/total_count)*100\n",
    "\n",
    "Bin3 = Heroes_of_Pymoli_df.groupby(['Age Summary']).get_group(('16-20'))\n",
    "purchase_count3= len(Bin3['SN'].unique())\n",
    "ForBin3 = (purchase_count3/total_count)*100\n",
    "\n",
    "Bin4 = Heroes_of_Pymoli_df.groupby(['Age Summary']).get_group(('21-25'))\n",
    "purchase_count4= len(Bin4['SN'].unique())\n",
    "ForBin4 = (purchase_count4/total_count)*100\n",
    "\n",
    "Bin5 = Heroes_of_Pymoli_df.groupby(['Age Summary']).get_group(('26-30'))\n",
    "purchase_count5 = len(Bin5['SN'].unique())\n",
    "ForBin5 = (purchase_count5/total_count)*100\n",
    "\n",
    "Bin6 = Heroes_of_Pymoli_df.groupby(['Age Summary']).get_group(('31-35'))\n",
    "purchase_count6= len(Bin6['SN'].unique())\n",
    "ForBin6 = (purchase_count6/total_count)*100\n",
    "\n",
    "Bin7 = Heroes_of_Pymoli_df.groupby(['Age Summary']).get_group(('36-40'))\n",
    "purchase_count7 = len(Bin7['SN'].unique())\n",
    "ForBin7 = (purchase_count7/total_count)*100\n",
    "\n",
    "Bin8 = Heroes_of_Pymoli_df.groupby(['Age Summary']).get_group(('41-45'))\n",
    "purchase_count8 = len(Bin8['SN'].unique())\n",
    "ForBin8 = (purchase_count8/total_count)*100\n",
    "\n",
    "Bin_Count=[purchase_count1,purchase_count2,purchase_count3,purchase_count4,purchase_count5,purchase_count6,purchase_count7,purchase_count8]\n",
    "Bin_Percent= [ForBin1,ForBin2,ForBin3,ForBin4,ForBin5,ForBin6,ForBin7,ForBin8]\n",
    "Bin_Percent= [round(x, 2) for x in Bin_Percent]\n",
    "\n",
    "Age_stats = {\"Age Summary\":Agelabels,\"Total Player Count\":Bin_Count,\"Percentage Of Players\":Bin_Percent}\n",
    "AgeStats = pd.DataFrame(Age_stats)\n",
    "AgeStats = AgeStats.set_index('Age Summary')\n",
    "AgeStats\n"
   ]
  },
  {
   "cell_type": "markdown",
   "metadata": {},
   "source": [
    "## Purchasing Analysis (Age)"
   ]
  },
  {
   "cell_type": "markdown",
   "metadata": {},
   "source": [
    "* Bin the purchase_data data frame by age\n",
    "\n",
    "\n",
    "* Run basic calculations to obtain purchase count, avg. purchase price, avg. purchase total per person etc. in the table below\n",
    "\n",
    "\n",
    "* Create a summary data frame to hold the results\n",
    "\n",
    "\n",
    "* Optional: give the displayed data cleaner formatting\n",
    "\n",
    "\n",
    "* Display the summary data frame"
   ]
  },
  {
   "cell_type": "code",
   "execution_count": 19,
   "metadata": {},
   "outputs": [
    {
     "data": {
      "text/html": [
       "<style type=\"text/css\">\n",
       "</style>\n",
       "<table id=\"T_64b22_\">\n",
       "  <thead>\n",
       "    <tr>\n",
       "      <th class=\"blank level0\" >&nbsp;</th>\n",
       "      <th class=\"col_heading level0 col0\" >Purchase Count</th>\n",
       "      <th class=\"col_heading level0 col1\" >Average Purchase Price</th>\n",
       "      <th class=\"col_heading level0 col2\" >Total Purchase Value</th>\n",
       "      <th class=\"col_heading level0 col3\" >Avg Total Purchase per Person</th>\n",
       "    </tr>\n",
       "    <tr>\n",
       "      <th class=\"index_name level0\" >Age</th>\n",
       "      <th class=\"blank col0\" >&nbsp;</th>\n",
       "      <th class=\"blank col1\" >&nbsp;</th>\n",
       "      <th class=\"blank col2\" >&nbsp;</th>\n",
       "      <th class=\"blank col3\" >&nbsp;</th>\n",
       "    </tr>\n",
       "  </thead>\n",
       "  <tbody>\n",
       "    <tr>\n",
       "      <th id=\"T_64b22_level0_row0\" class=\"row_heading level0 row0\" ><10</th>\n",
       "      <td id=\"T_64b22_row0_col0\" class=\"data row0 col0\" >32</td>\n",
       "      <td id=\"T_64b22_row0_col1\" class=\"data row0 col1\" >$3.40</td>\n",
       "      <td id=\"T_64b22_row0_col2\" class=\"data row0 col2\" >$108.96</td>\n",
       "      <td id=\"T_64b22_row0_col3\" class=\"data row0 col3\" >$4.54</td>\n",
       "    </tr>\n",
       "    <tr>\n",
       "      <th id=\"T_64b22_level0_row1\" class=\"row_heading level0 row1\" >11-15</th>\n",
       "      <td id=\"T_64b22_row1_col0\" class=\"data row1 col0\" >54</td>\n",
       "      <td id=\"T_64b22_row1_col1\" class=\"data row1 col1\" >$2.90</td>\n",
       "      <td id=\"T_64b22_row1_col2\" class=\"data row1 col2\" >$156.60</td>\n",
       "      <td id=\"T_64b22_row1_col3\" class=\"data row1 col3\" >$3.82</td>\n",
       "    </tr>\n",
       "    <tr>\n",
       "      <th id=\"T_64b22_level0_row2\" class=\"row_heading level0 row2\" >16-20</th>\n",
       "      <td id=\"T_64b22_row2_col0\" class=\"data row2 col0\" >200</td>\n",
       "      <td id=\"T_64b22_row2_col1\" class=\"data row2 col1\" >$3.11</td>\n",
       "      <td id=\"T_64b22_row2_col2\" class=\"data row2 col2\" >$621.56</td>\n",
       "      <td id=\"T_64b22_row2_col3\" class=\"data row2 col3\" >$4.14</td>\n",
       "    </tr>\n",
       "    <tr>\n",
       "      <th id=\"T_64b22_level0_row3\" class=\"row_heading level0 row3\" >21-25</th>\n",
       "      <td id=\"T_64b22_row3_col0\" class=\"data row3 col0\" >325</td>\n",
       "      <td id=\"T_64b22_row3_col1\" class=\"data row3 col1\" >$3.02</td>\n",
       "      <td id=\"T_64b22_row3_col2\" class=\"data row3 col2\" >$981.64</td>\n",
       "      <td id=\"T_64b22_row3_col3\" class=\"data row3 col3\" >$4.23</td>\n",
       "    </tr>\n",
       "    <tr>\n",
       "      <th id=\"T_64b22_level0_row4\" class=\"row_heading level0 row4\" >26-30</th>\n",
       "      <td id=\"T_64b22_row4_col0\" class=\"data row4 col0\" >77</td>\n",
       "      <td id=\"T_64b22_row4_col1\" class=\"data row4 col1\" >$2.88</td>\n",
       "      <td id=\"T_64b22_row4_col2\" class=\"data row4 col2\" >$221.42</td>\n",
       "      <td id=\"T_64b22_row4_col3\" class=\"data row4 col3\" >$3.75</td>\n",
       "    </tr>\n",
       "    <tr>\n",
       "      <th id=\"T_64b22_level0_row5\" class=\"row_heading level0 row5\" >31-35</th>\n",
       "      <td id=\"T_64b22_row5_col0\" class=\"data row5 col0\" >52</td>\n",
       "      <td id=\"T_64b22_row5_col1\" class=\"data row5 col1\" >$2.99</td>\n",
       "      <td id=\"T_64b22_row5_col2\" class=\"data row5 col2\" >$155.71</td>\n",
       "      <td id=\"T_64b22_row5_col3\" class=\"data row5 col3\" >$4.21</td>\n",
       "    </tr>\n",
       "    <tr>\n",
       "      <th id=\"T_64b22_level0_row6\" class=\"row_heading level0 row6\" >36-40</th>\n",
       "      <td id=\"T_64b22_row6_col0\" class=\"data row6 col0\" >33</td>\n",
       "      <td id=\"T_64b22_row6_col1\" class=\"data row6 col1\" >$3.40</td>\n",
       "      <td id=\"T_64b22_row6_col2\" class=\"data row6 col2\" >$112.35</td>\n",
       "      <td id=\"T_64b22_row6_col3\" class=\"data row6 col3\" >$4.32</td>\n",
       "    </tr>\n",
       "    <tr>\n",
       "      <th id=\"T_64b22_level0_row7\" class=\"row_heading level0 row7\" >41-45</th>\n",
       "      <td id=\"T_64b22_row7_col0\" class=\"data row7 col0\" >7</td>\n",
       "      <td id=\"T_64b22_row7_col1\" class=\"data row7 col1\" >$3.08</td>\n",
       "      <td id=\"T_64b22_row7_col2\" class=\"data row7 col2\" >$21.53</td>\n",
       "      <td id=\"T_64b22_row7_col3\" class=\"data row7 col3\" >$3.08</td>\n",
       "    </tr>\n",
       "  </tbody>\n",
       "</table>\n"
      ],
      "text/plain": [
       "<pandas.io.formats.style.Styler at 0x1dc17c4e888>"
      ]
     },
     "execution_count": 19,
     "metadata": {},
     "output_type": "execute_result"
    }
   ],
   "source": [
    "Age_Purchase_Count = pd.DataFrame({\"Age\": [\"<10\", \"11-15\", \"16-20\", \"21-25\", \"26-30\", \"31-35\", \"36-40\", \"41-45\"],\n",
    "                              \"Purchase Count\": [Bin1[\"Price\"].count(), Bin2[\"Price\"].count(), Bin3[\"Price\"].count(), Bin4[\"Price\"].count(), Bin5[\"Price\"].count(), Bin6[\"Price\"].count(), Bin7[\"Price\"].count(), Bin8[\"Price\"].count()],\n",
    "                              \"Average Purchase Price\": [Bin1[\"Price\"].mean(), Bin2[\"Price\"].mean(), Bin3[\"Price\"].mean(), Bin4[\"Price\"].mean(), Bin5[\"Price\"].mean(), Bin6[\"Price\"].mean(), Bin7[\"Price\"].mean(), Bin8[\"Price\"].mean()], \n",
    "                              \"Total Purchase Value\": [Bin1[\"Price\"].sum(), Bin2[\"Price\"].sum(), Bin3[\"Price\"].sum(), Bin4[\"Price\"].sum(), Bin5[\"Price\"].sum(), Bin6[\"Price\"].sum(), Bin7[\"Price\"].sum(), Bin8[\"Price\"].sum()],\n",
    "                              \"Avg Total Purchase per Person\": [Bin1[\"Price\"].sum()/Bin1['SN'].nunique(), Bin2[\"Price\"].sum()/Bin2['SN'].nunique(), Bin3[\"Price\"].sum()/Bin3['SN'].nunique(), \n",
    "                                                    Bin4[\"Price\"].sum()/Bin4['SN'].nunique(), Bin5[\"Price\"].sum()/Bin5['SN'].nunique(), \n",
    "                                                    Bin6[\"Price\"].sum()/Bin6['SN'].nunique(), Bin7[\"Price\"].sum()/Bin7['SN'].nunique(), \n",
    "                                                    Bin8[\"Price\"].sum()/Bin8['SN'].nunique()]}, \n",
    "                             columns =  [\"Age\", \"Purchase Count\", \"Average Purchase Price\", \"Total Purchase Value\", \"Avg Total Purchase per Person\"])\n",
    "\n",
    "AgePurchaseCount = Age_Purchase_Count.set_index(\"Age\")\n",
    "\n",
    "AgePurchaseCount.style.format({\"Average Purchase Price\": \"${:.2f}\", \"Total Purchase Value\": \"${:.2f}\", \"Avg Total Purchase per Person\": \"${:.2f}\"})"
   ]
  },
  {
   "cell_type": "markdown",
   "metadata": {},
   "source": [
    "## Top Spenders"
   ]
  },
  {
   "cell_type": "markdown",
   "metadata": {},
   "source": [
    "* Run basic calculations to obtain the results in the table below\n",
    "\n",
    "\n",
    "* Create a summary data frame to hold the results\n",
    "\n",
    "\n",
    "* Sort the total purchase value column in descending order\n",
    "\n",
    "\n",
    "* Optional: give the displayed data cleaner formatting\n",
    "\n",
    "\n",
    "* Display a preview of the summary data frame\n",
    "\n"
   ]
  },
  {
   "cell_type": "code",
   "execution_count": 20,
   "metadata": {},
   "outputs": [
    {
     "data": {
      "text/html": [
       "<div>\n",
       "<style scoped>\n",
       "    .dataframe tbody tr th:only-of-type {\n",
       "        vertical-align: middle;\n",
       "    }\n",
       "\n",
       "    .dataframe tbody tr th {\n",
       "        vertical-align: top;\n",
       "    }\n",
       "\n",
       "    .dataframe thead th {\n",
       "        text-align: right;\n",
       "    }\n",
       "</style>\n",
       "<table border=\"1\" class=\"dataframe\">\n",
       "  <thead>\n",
       "    <tr style=\"text-align: right;\">\n",
       "      <th></th>\n",
       "      <th>Purchase Count</th>\n",
       "      <th>Average Purchase Price</th>\n",
       "      <th>Total Purchase Value</th>\n",
       "    </tr>\n",
       "    <tr>\n",
       "      <th>SN</th>\n",
       "      <th></th>\n",
       "      <th></th>\n",
       "      <th></th>\n",
       "    </tr>\n",
       "  </thead>\n",
       "  <tbody>\n",
       "    <tr>\n",
       "      <th>[Lisosia93]</th>\n",
       "      <td>5</td>\n",
       "      <td>3.79</td>\n",
       "      <td>18.96</td>\n",
       "    </tr>\n",
       "    <tr>\n",
       "      <th>[Idastidru52]</th>\n",
       "      <td>4</td>\n",
       "      <td>3.86</td>\n",
       "      <td>15.45</td>\n",
       "    </tr>\n",
       "    <tr>\n",
       "      <th>[Chamjask73]</th>\n",
       "      <td>3</td>\n",
       "      <td>4.61</td>\n",
       "      <td>13.83</td>\n",
       "    </tr>\n",
       "    <tr>\n",
       "      <th>[Iral74]</th>\n",
       "      <td>4</td>\n",
       "      <td>3.40</td>\n",
       "      <td>13.62</td>\n",
       "    </tr>\n",
       "    <tr>\n",
       "      <th>[Iskadarya95]</th>\n",
       "      <td>3</td>\n",
       "      <td>4.37</td>\n",
       "      <td>13.10</td>\n",
       "    </tr>\n",
       "  </tbody>\n",
       "</table>\n",
       "</div>"
      ],
      "text/plain": [
       "               Purchase Count  Average Purchase Price  Total Purchase Value\n",
       "SN                                                                         \n",
       "[Lisosia93]                 5                    3.79                 18.96\n",
       "[Idastidru52]               4                    3.86                 15.45\n",
       "[Chamjask73]                3                    4.61                 13.83\n",
       "[Iral74]                    4                    3.40                 13.62\n",
       "[Iskadarya95]               3                    4.37                 13.10"
      ]
     },
     "execution_count": 20,
     "metadata": {},
     "output_type": "execute_result"
    }
   ],
   "source": [
    "#Top Spenders\n",
    "SN = Heroes_of_Pymoli_df.groupby(Heroes_of_Pymoli_df[\"SN\"])\n",
    "ScreenName = SN[\"SN\"].unique()\n",
    "\n",
    "#Purchase Count\n",
    "SNCount = SN['Age'].count()\n",
    "\n",
    "#Average Purchase Price\n",
    "SNAverage = round(SN['Price'].mean(),2)\n",
    "\n",
    "#Total Purchase Value\n",
    "SNTotal = SN['Price'].sum()\n",
    "\n",
    "\n",
    "TopSpend = {\"SN\":ScreenName,\"Purchase Count\":SNCount,\n",
    "                 \"Average Purchase Price\":SNAverage,\"Total Purchase Value\":SNTotal}\n",
    "TopSpend1= pd.DataFrame(TopSpend)\n",
    "TopSpend1= TopSpend1.set_index('SN')\n",
    "TopSpend1 = TopSpend1.sort_values(\"Total Purchase Value\",ascending=False)\n",
    "TopSpend1 = TopSpend1[['Purchase Count', 'Average Purchase Price', 'Total Purchase Value']]\n",
    "\n",
    "TopSpend1.iloc[:5]"
   ]
  },
  {
   "cell_type": "markdown",
   "metadata": {},
   "source": [
    "## Most Popular Items"
   ]
  },
  {
   "cell_type": "markdown",
   "metadata": {},
   "source": [
    "* Retrieve the Item ID, Item Name, and Item Price columns\n",
    "\n",
    "\n",
    "* Group by Item ID and Item Name. Perform calculations to obtain purchase count, item price, and total purchase value\n",
    "\n",
    "\n",
    "* Create a summary data frame to hold the results\n",
    "\n",
    "\n",
    "* Sort the purchase count column in descending order\n",
    "\n",
    "\n",
    "* Optional: give the displayed data cleaner formatting\n",
    "\n",
    "\n",
    "* Display a preview of the summary data frame\n",
    "\n"
   ]
  },
  {
   "cell_type": "code",
   "execution_count": 21,
   "metadata": {},
   "outputs": [],
   "source": [
    "#Item ID\n",
    "ItemId = Heroes_of_Pymoli_df.groupby(Heroes_of_Pymoli_df['Item ID'])\n",
    "Items = ItemId['Item ID'].unique()\n",
    "#Item Name\n",
    "\n",
    "ItemName = ItemId[\"Item Name\"].unique()\n",
    "#Purchase Count\n",
    "ItemPurchaseCount = ItemId['Age'].count()\n",
    "\n",
    "#Item Price\n",
    "ItemPrice= ItemId['Price'].unique()"
   ]
  },
  {
   "cell_type": "code",
   "execution_count": 22,
   "metadata": {},
   "outputs": [
    {
     "data": {
      "text/html": [
       "<div>\n",
       "<style scoped>\n",
       "    .dataframe tbody tr th:only-of-type {\n",
       "        vertical-align: middle;\n",
       "    }\n",
       "\n",
       "    .dataframe tbody tr th {\n",
       "        vertical-align: top;\n",
       "    }\n",
       "\n",
       "    .dataframe thead th {\n",
       "        text-align: right;\n",
       "    }\n",
       "</style>\n",
       "<table border=\"1\" class=\"dataframe\">\n",
       "  <thead>\n",
       "    <tr style=\"text-align: right;\">\n",
       "      <th></th>\n",
       "      <th>Item Name</th>\n",
       "      <th>Item Count</th>\n",
       "      <th>Item Price</th>\n",
       "      <th>Total Purchase</th>\n",
       "    </tr>\n",
       "    <tr>\n",
       "      <th>Item ID</th>\n",
       "      <th></th>\n",
       "      <th></th>\n",
       "      <th></th>\n",
       "      <th></th>\n",
       "    </tr>\n",
       "  </thead>\n",
       "  <tbody>\n",
       "    <tr>\n",
       "      <th>[92]</th>\n",
       "      <td>[Final Critic]</td>\n",
       "      <td>13</td>\n",
       "      <td>[4.88, 4.19]</td>\n",
       "      <td>59.99</td>\n",
       "    </tr>\n",
       "    <tr>\n",
       "      <th>[178]</th>\n",
       "      <td>[Oathbreaker, Last Hope of the Breaking Storm]</td>\n",
       "      <td>12</td>\n",
       "      <td>[4.23]</td>\n",
       "      <td>50.76</td>\n",
       "    </tr>\n",
       "    <tr>\n",
       "      <th>[145]</th>\n",
       "      <td>[Fiery Glass Crusader]</td>\n",
       "      <td>9</td>\n",
       "      <td>[4.58]</td>\n",
       "      <td>41.22</td>\n",
       "    </tr>\n",
       "    <tr>\n",
       "      <th>[132]</th>\n",
       "      <td>[Persuasion]</td>\n",
       "      <td>9</td>\n",
       "      <td>[3.19, 3.33]</td>\n",
       "      <td>28.99</td>\n",
       "    </tr>\n",
       "    <tr>\n",
       "      <th>[108]</th>\n",
       "      <td>[Extraction, Quickblade Of Trembling Hands]</td>\n",
       "      <td>9</td>\n",
       "      <td>[3.53]</td>\n",
       "      <td>31.77</td>\n",
       "    </tr>\n",
       "  </tbody>\n",
       "</table>\n",
       "</div>"
      ],
      "text/plain": [
       "                                              Item Name  Item Count  \\\n",
       "Item ID                                                               \n",
       "[92]                                     [Final Critic]          13   \n",
       "[178]    [Oathbreaker, Last Hope of the Breaking Storm]          12   \n",
       "[145]                            [Fiery Glass Crusader]           9   \n",
       "[132]                                      [Persuasion]           9   \n",
       "[108]       [Extraction, Quickblade Of Trembling Hands]           9   \n",
       "\n",
       "           Item Price  Total Purchase  \n",
       "Item ID                                \n",
       "[92]     [4.88, 4.19]           59.99  \n",
       "[178]          [4.23]           50.76  \n",
       "[145]          [4.58]           41.22  \n",
       "[132]    [3.19, 3.33]           28.99  \n",
       "[108]          [3.53]           31.77  "
      ]
     },
     "execution_count": 22,
     "metadata": {},
     "output_type": "execute_result"
    }
   ],
   "source": [
    "#Total Purchase Value\n",
    "ItemTotalPurchase = ItemId['Price'].sum()\n",
    "\n",
    "ItemTable = {'Item ID':Items,'Item Name':ItemName,'Item Price':ItemPrice,'Item Count':ItemPurchaseCount,'Total Purchase':ItemTotalPurchase}\n",
    "ItemTable1 = pd.DataFrame(ItemTable)\n",
    "ItemTable1 = ItemTable1.set_index('Item ID')\n",
    "ItemTable1= ItemTable1.sort_values('Item Count', ascending=False)\n",
    "ItemTable1 = ItemTable1[['Item Name','Item Count','Item Price','Total Purchase']]\n",
    "ItemTable1.iloc[:5]"
   ]
  },
  {
   "cell_type": "markdown",
   "metadata": {},
   "source": [
    "## Most Profitable Items"
   ]
  },
  {
   "cell_type": "markdown",
   "metadata": {},
   "source": [
    "* Sort the above table by total purchase value in descending order\n",
    "\n",
    "\n",
    "* Optional: give the displayed data cleaner formatting\n",
    "\n",
    "\n",
    "* Display a preview of the data frame\n",
    "\n"
   ]
  },
  {
   "cell_type": "code",
   "execution_count": 23,
   "metadata": {
    "scrolled": true
   },
   "outputs": [
    {
     "data": {
      "text/html": [
       "<div>\n",
       "<style scoped>\n",
       "    .dataframe tbody tr th:only-of-type {\n",
       "        vertical-align: middle;\n",
       "    }\n",
       "\n",
       "    .dataframe tbody tr th {\n",
       "        vertical-align: top;\n",
       "    }\n",
       "\n",
       "    .dataframe thead th {\n",
       "        text-align: right;\n",
       "    }\n",
       "</style>\n",
       "<table border=\"1\" class=\"dataframe\">\n",
       "  <thead>\n",
       "    <tr style=\"text-align: right;\">\n",
       "      <th></th>\n",
       "      <th>Item Name</th>\n",
       "      <th>Item Count</th>\n",
       "      <th>Item Price</th>\n",
       "      <th>Total Purchase</th>\n",
       "    </tr>\n",
       "    <tr>\n",
       "      <th>Item ID</th>\n",
       "      <th></th>\n",
       "      <th></th>\n",
       "      <th></th>\n",
       "      <th></th>\n",
       "    </tr>\n",
       "  </thead>\n",
       "  <tbody>\n",
       "    <tr>\n",
       "      <th>[92]</th>\n",
       "      <td>[Final Critic]</td>\n",
       "      <td>13</td>\n",
       "      <td>[4.88, 4.19]</td>\n",
       "      <td>59.99</td>\n",
       "    </tr>\n",
       "    <tr>\n",
       "      <th>[178]</th>\n",
       "      <td>[Oathbreaker, Last Hope of the Breaking Storm]</td>\n",
       "      <td>12</td>\n",
       "      <td>[4.23]</td>\n",
       "      <td>50.76</td>\n",
       "    </tr>\n",
       "    <tr>\n",
       "      <th>[82]</th>\n",
       "      <td>[Nirvana]</td>\n",
       "      <td>9</td>\n",
       "      <td>[4.9]</td>\n",
       "      <td>44.10</td>\n",
       "    </tr>\n",
       "    <tr>\n",
       "      <th>[145]</th>\n",
       "      <td>[Fiery Glass Crusader]</td>\n",
       "      <td>9</td>\n",
       "      <td>[4.58]</td>\n",
       "      <td>41.22</td>\n",
       "    </tr>\n",
       "    <tr>\n",
       "      <th>[103]</th>\n",
       "      <td>[Singed Scalpel]</td>\n",
       "      <td>8</td>\n",
       "      <td>[4.35]</td>\n",
       "      <td>34.80</td>\n",
       "    </tr>\n",
       "  </tbody>\n",
       "</table>\n",
       "</div>"
      ],
      "text/plain": [
       "                                              Item Name  Item Count  \\\n",
       "Item ID                                                               \n",
       "[92]                                     [Final Critic]          13   \n",
       "[178]    [Oathbreaker, Last Hope of the Breaking Storm]          12   \n",
       "[82]                                          [Nirvana]           9   \n",
       "[145]                            [Fiery Glass Crusader]           9   \n",
       "[103]                                  [Singed Scalpel]           8   \n",
       "\n",
       "           Item Price  Total Purchase  \n",
       "Item ID                                \n",
       "[92]     [4.88, 4.19]           59.99  \n",
       "[178]          [4.23]           50.76  \n",
       "[82]            [4.9]           44.10  \n",
       "[145]          [4.58]           41.22  \n",
       "[103]          [4.35]           34.80  "
      ]
     },
     "execution_count": 23,
     "metadata": {},
     "output_type": "execute_result"
    }
   ],
   "source": [
    "MostProfit= ItemTable1.sort_values('Total Purchase', ascending=False)\n",
    "MostProfit[:5]"
   ]
  }
 ],
 "metadata": {
  "anaconda-cloud": {},
  "interpreter": {
   "hash": "f6efcccb7124db463d88db4d64920010147f11135d8024bfa4947c9ad4359cd1"
  },
  "kernel_info": {
   "name": "python3"
  },
  "kernelspec": {
   "display_name": "Python 3.7.13 ('bootcamp')",
   "language": "python",
   "name": "python3"
  },
  "language_info": {
   "codemirror_mode": {
    "name": "ipython",
    "version": 3
   },
   "file_extension": ".py",
   "mimetype": "text/x-python",
   "name": "python",
   "nbconvert_exporter": "python",
   "pygments_lexer": "ipython3",
   "version": "3.7.13"
  },
  "latex_envs": {
   "LaTeX_envs_menu_present": true,
   "autoclose": false,
   "autocomplete": true,
   "bibliofile": "biblio.bib",
   "cite_by": "apalike",
   "current_citInitial": 1,
   "eqLabelWithNumbers": true,
   "eqNumInitial": 1,
   "hotkeys": {
    "equation": "Ctrl-E",
    "itemize": "Ctrl-I"
   },
   "labels_anchors": false,
   "latex_user_defs": false,
   "report_style_numbering": false,
   "user_envs_cfg": false
  },
  "nteract": {
   "version": "0.2.0"
  }
 },
 "nbformat": 4,
 "nbformat_minor": 2
}
